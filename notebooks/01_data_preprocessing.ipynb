{
 "cells": [
  {
   "cell_type": "code",
   "execution_count": 3,
   "metadata": {},
   "outputs": [],
   "source": [
    "import pandas as pd\n",
    "from pathlib import Path"
   ]
  },
  {
   "cell_type": "code",
   "execution_count": 20,
   "metadata": {},
   "outputs": [
    {
     "name": "stdout",
     "output_type": "stream",
     "text": [
      "Initial shape: (249, 13)\n"
     ]
    }
   ],
   "source": [
    "# Inside the container, this points to the mounted dataset\n",
    "data_path = Path(\"../data/raw/common_voice/validated.tsv\")\n",
    "df = pd.read_csv(data_path, sep=\"\\t\")\n",
    "print(\"Initial shape:\",df.shape)"
   ]
  },
  {
   "cell_type": "code",
   "execution_count": 21,
   "metadata": {},
   "outputs": [
    {
     "data": {
      "text/html": [
       "<div>\n",
       "<style scoped>\n",
       "    .dataframe tbody tr th:only-of-type {\n",
       "        vertical-align: middle;\n",
       "    }\n",
       "\n",
       "    .dataframe tbody tr th {\n",
       "        vertical-align: top;\n",
       "    }\n",
       "\n",
       "    .dataframe thead th {\n",
       "        text-align: right;\n",
       "    }\n",
       "</style>\n",
       "<table border=\"1\" class=\"dataframe\">\n",
       "  <thead>\n",
       "    <tr style=\"text-align: right;\">\n",
       "      <th></th>\n",
       "      <th>client_id</th>\n",
       "      <th>path</th>\n",
       "      <th>sentence_id</th>\n",
       "      <th>sentence</th>\n",
       "      <th>sentence_domain</th>\n",
       "      <th>up_votes</th>\n",
       "      <th>down_votes</th>\n",
       "      <th>age</th>\n",
       "      <th>gender</th>\n",
       "      <th>accents</th>\n",
       "      <th>variant</th>\n",
       "      <th>locale</th>\n",
       "      <th>segment</th>\n",
       "    </tr>\n",
       "  </thead>\n",
       "  <tbody>\n",
       "    <tr>\n",
       "      <th>0</th>\n",
       "      <td>116398939d6be70fc5fb532924a130c0adf286ac283499...</td>\n",
       "      <td>common_voice_en_41923025.mp3</td>\n",
       "      <td>f5a2a431746c5229ab696ba0e1a518fe7b26e208ff3b84...</td>\n",
       "      <td>He was born at Wichenford, in Worcestershire, ...</td>\n",
       "      <td>NaN</td>\n",
       "      <td>2</td>\n",
       "      <td>0</td>\n",
       "      <td>thirties</td>\n",
       "      <td>NaN</td>\n",
       "      <td>United States English</td>\n",
       "      <td>NaN</td>\n",
       "      <td>en</td>\n",
       "      <td>NaN</td>\n",
       "    </tr>\n",
       "    <tr>\n",
       "      <th>1</th>\n",
       "      <td>24a4da2e8f053a45a0715849c222a40a4b0da9872efb2e...</td>\n",
       "      <td>common_voice_en_42356358.mp3</td>\n",
       "      <td>f6f009587d8812c147af1cc05079e1fcd8120c8a98cdf8...</td>\n",
       "      <td>The Portuguese division was overrun and withdr...</td>\n",
       "      <td>NaN</td>\n",
       "      <td>2</td>\n",
       "      <td>0</td>\n",
       "      <td>teens</td>\n",
       "      <td>NaN</td>\n",
       "      <td>United States English</td>\n",
       "      <td>NaN</td>\n",
       "      <td>en</td>\n",
       "      <td>NaN</td>\n",
       "    </tr>\n",
       "    <tr>\n",
       "      <th>2</th>\n",
       "      <td>30849595699bc853c3810a78448acede46888b4e2d0809...</td>\n",
       "      <td>common_voice_en_42165090.mp3</td>\n",
       "      <td>f69afa5e77812e8be0085c874d2a9767323c78ffb43ba6...</td>\n",
       "      <td>Her health by this stage was also poor.</td>\n",
       "      <td>NaN</td>\n",
       "      <td>2</td>\n",
       "      <td>0</td>\n",
       "      <td>NaN</td>\n",
       "      <td>NaN</td>\n",
       "      <td>NaN</td>\n",
       "      <td>NaN</td>\n",
       "      <td>en</td>\n",
       "      <td>NaN</td>\n",
       "    </tr>\n",
       "    <tr>\n",
       "      <th>3</th>\n",
       "      <td>42d53f34c1bc50f7a7c4ed1765a8d1ffeaf5cd441513cc...</td>\n",
       "      <td>common_voice_en_41921729.mp3</td>\n",
       "      <td>f5739acbefdbd3aac990792966fac4d40dcb39eb8dfa21...</td>\n",
       "      <td>His sporting interests outside of cricket incl...</td>\n",
       "      <td>NaN</td>\n",
       "      <td>2</td>\n",
       "      <td>0</td>\n",
       "      <td>nineties</td>\n",
       "      <td>NaN</td>\n",
       "      <td>England English</td>\n",
       "      <td>NaN</td>\n",
       "      <td>en</td>\n",
       "      <td>NaN</td>\n",
       "    </tr>\n",
       "    <tr>\n",
       "      <th>4</th>\n",
       "      <td>436b9e1f9da710d74eb01209f8f269bee70e93cadf2053...</td>\n",
       "      <td>common_voice_en_42528393.mp3</td>\n",
       "      <td>f7d35c60d76f025c45a9495757d1ee0e2b7c206317a288...</td>\n",
       "      <td>The following year he was elected to be part o...</td>\n",
       "      <td>NaN</td>\n",
       "      <td>2</td>\n",
       "      <td>0</td>\n",
       "      <td>teens</td>\n",
       "      <td>NaN</td>\n",
       "      <td>United States English</td>\n",
       "      <td>NaN</td>\n",
       "      <td>en</td>\n",
       "      <td>NaN</td>\n",
       "    </tr>\n",
       "  </tbody>\n",
       "</table>\n",
       "</div>"
      ],
      "text/plain": [
       "                                           client_id  \\\n",
       "0  116398939d6be70fc5fb532924a130c0adf286ac283499...   \n",
       "1  24a4da2e8f053a45a0715849c222a40a4b0da9872efb2e...   \n",
       "2  30849595699bc853c3810a78448acede46888b4e2d0809...   \n",
       "3  42d53f34c1bc50f7a7c4ed1765a8d1ffeaf5cd441513cc...   \n",
       "4  436b9e1f9da710d74eb01209f8f269bee70e93cadf2053...   \n",
       "\n",
       "                           path  \\\n",
       "0  common_voice_en_41923025.mp3   \n",
       "1  common_voice_en_42356358.mp3   \n",
       "2  common_voice_en_42165090.mp3   \n",
       "3  common_voice_en_41921729.mp3   \n",
       "4  common_voice_en_42528393.mp3   \n",
       "\n",
       "                                         sentence_id  \\\n",
       "0  f5a2a431746c5229ab696ba0e1a518fe7b26e208ff3b84...   \n",
       "1  f6f009587d8812c147af1cc05079e1fcd8120c8a98cdf8...   \n",
       "2  f69afa5e77812e8be0085c874d2a9767323c78ffb43ba6...   \n",
       "3  f5739acbefdbd3aac990792966fac4d40dcb39eb8dfa21...   \n",
       "4  f7d35c60d76f025c45a9495757d1ee0e2b7c206317a288...   \n",
       "\n",
       "                                            sentence sentence_domain  \\\n",
       "0  He was born at Wichenford, in Worcestershire, ...             NaN   \n",
       "1  The Portuguese division was overrun and withdr...             NaN   \n",
       "2            Her health by this stage was also poor.             NaN   \n",
       "3  His sporting interests outside of cricket incl...             NaN   \n",
       "4  The following year he was elected to be part o...             NaN   \n",
       "\n",
       "   up_votes  down_votes       age gender                accents  variant  \\\n",
       "0         2           0  thirties    NaN  United States English      NaN   \n",
       "1         2           0     teens    NaN  United States English      NaN   \n",
       "2         2           0       NaN    NaN                    NaN      NaN   \n",
       "3         2           0  nineties    NaN        England English      NaN   \n",
       "4         2           0     teens    NaN  United States English      NaN   \n",
       "\n",
       "  locale  segment  \n",
       "0     en      NaN  \n",
       "1     en      NaN  \n",
       "2     en      NaN  \n",
       "3     en      NaN  \n",
       "4     en      NaN  "
      ]
     },
     "execution_count": 21,
     "metadata": {},
     "output_type": "execute_result"
    }
   ],
   "source": [
    "df.head()"
   ]
  },
  {
   "cell_type": "code",
   "execution_count": 22,
   "metadata": {},
   "outputs": [
    {
     "name": "stdout",
     "output_type": "stream",
     "text": [
      "Columns in validated.tsv: ['client_id', 'path', 'sentence_id', 'sentence', 'sentence_domain', 'up_votes', 'down_votes', 'age', 'gender', 'accents', 'variant', 'locale', 'segment']\n"
     ]
    }
   ],
   "source": [
    "# Show columns to inspect\n",
    "print(\"Columns in validated.tsv:\", df.columns.tolist())"
   ]
  },
  {
   "cell_type": "code",
   "execution_count": 23,
   "metadata": {},
   "outputs": [],
   "source": [
    "# Dropping rows with missing or unknown age\n",
    "df = df.dropna(subset=[\"age\"])\n",
    "df = df[df[\"age\"] != \"unknown\"]"
   ]
  },
  {
   "cell_type": "code",
   "execution_count": 24,
   "metadata": {},
   "outputs": [
    {
     "name": "stdout",
     "output_type": "stream",
     "text": [
      "After dropping missing/unknown ages: (237, 13)\n"
     ]
    }
   ],
   "source": [
    "print(\"After dropping missing/unknown ages:\", df.shape)"
   ]
  },
  {
   "cell_type": "code",
   "execution_count": 25,
   "metadata": {},
   "outputs": [
    {
     "name": "stdout",
     "output_type": "stream",
     "text": [
      "Unique age labels:\n",
      "['fifties', 'fourties', 'nineties', 'sixties', 'teens', 'thirties', 'twenties']\n"
     ]
    }
   ],
   "source": [
    "# Checking all unique age values\n",
    "print(\"Unique age labels:\")\n",
    "print(sorted(df[\"age\"].unique()))"
   ]
  },
  {
   "cell_type": "code",
   "execution_count": 26,
   "metadata": {},
   "outputs": [],
   "source": [
    "# Define age bins — you can customize further if needed\n",
    "def bin_age(age):\n",
    "    if age in [\"teens\"]:\n",
    "        return \"teen\"\n",
    "    elif age in [\"twenties\"]:\n",
    "        return \"young_adult\"\n",
    "    elif age in [\"thirties\", \"forties\"]:\n",
    "        return \"adult\"\n",
    "    elif age in [\"fifties\", \"sixties\"]:\n",
    "        return \"middle_aged\"\n",
    "    elif age in [\"seventies\", \"eighties\", \"nineties\"]:\n",
    "        return \"senior\"\n",
    "    else:\n",
    "        return \"unknown\""
   ]
  },
  {
   "cell_type": "code",
   "execution_count": 27,
   "metadata": {},
   "outputs": [],
   "source": [
    "# ✅ Apply binning function to create new column\n",
    "df[\"age_group\"] = df[\"age\"].apply(bin_age)\n",
    "\n",
    "# ✅ Drop any that failed binning (i.e., stayed 'unknown')\n",
    "df = df[df[\"age_group\"] != \"unknown\"]"
   ]
  },
  {
   "cell_type": "code",
   "execution_count": 28,
   "metadata": {},
   "outputs": [
    {
     "name": "stdout",
     "output_type": "stream",
     "text": [
      "age_group\n",
      "young_adult    126\n",
      "adult           56\n",
      "middle_aged     33\n",
      "teen            14\n",
      "senior           1\n",
      "Name: count, dtype: int64\n"
     ]
    },
    {
     "data": {
      "text/html": [
       "<div>\n",
       "<style scoped>\n",
       "    .dataframe tbody tr th:only-of-type {\n",
       "        vertical-align: middle;\n",
       "    }\n",
       "\n",
       "    .dataframe tbody tr th {\n",
       "        vertical-align: top;\n",
       "    }\n",
       "\n",
       "    .dataframe thead th {\n",
       "        text-align: right;\n",
       "    }\n",
       "</style>\n",
       "<table border=\"1\" class=\"dataframe\">\n",
       "  <thead>\n",
       "    <tr style=\"text-align: right;\">\n",
       "      <th></th>\n",
       "      <th>path</th>\n",
       "      <th>age</th>\n",
       "      <th>age_group</th>\n",
       "    </tr>\n",
       "  </thead>\n",
       "  <tbody>\n",
       "    <tr>\n",
       "      <th>0</th>\n",
       "      <td>common_voice_en_41923025.mp3</td>\n",
       "      <td>thirties</td>\n",
       "      <td>adult</td>\n",
       "    </tr>\n",
       "    <tr>\n",
       "      <th>1</th>\n",
       "      <td>common_voice_en_42356358.mp3</td>\n",
       "      <td>teens</td>\n",
       "      <td>teen</td>\n",
       "    </tr>\n",
       "    <tr>\n",
       "      <th>3</th>\n",
       "      <td>common_voice_en_41921729.mp3</td>\n",
       "      <td>nineties</td>\n",
       "      <td>senior</td>\n",
       "    </tr>\n",
       "    <tr>\n",
       "      <th>4</th>\n",
       "      <td>common_voice_en_42528393.mp3</td>\n",
       "      <td>teens</td>\n",
       "      <td>teen</td>\n",
       "    </tr>\n",
       "    <tr>\n",
       "      <th>6</th>\n",
       "      <td>common_voice_en_42555516.mp3</td>\n",
       "      <td>twenties</td>\n",
       "      <td>young_adult</td>\n",
       "    </tr>\n",
       "  </tbody>\n",
       "</table>\n",
       "</div>"
      ],
      "text/plain": [
       "                           path       age    age_group\n",
       "0  common_voice_en_41923025.mp3  thirties        adult\n",
       "1  common_voice_en_42356358.mp3     teens         teen\n",
       "3  common_voice_en_41921729.mp3  nineties       senior\n",
       "4  common_voice_en_42528393.mp3     teens         teen\n",
       "6  common_voice_en_42555516.mp3  twenties  young_adult"
      ]
     },
     "execution_count": 28,
     "metadata": {},
     "output_type": "execute_result"
    }
   ],
   "source": [
    "# ✅ Preview result\n",
    "print(df[\"age_group\"].value_counts())\n",
    "df[[\"path\", \"age\", \"age_group\"]].head()"
   ]
  },
  {
   "cell_type": "code",
   "execution_count": 29,
   "metadata": {},
   "outputs": [],
   "source": [
    "# Paths\n",
    "clips_dir = Path(\"../data/raw/common_voice/clips/\")\n",
    "processed_dir = Path(\"../data/processed/\")\n",
    "processed_dir.mkdir(exist_ok=True, parents=True)"
   ]
  },
  {
   "cell_type": "code",
   "execution_count": 30,
   "metadata": {},
   "outputs": [],
   "source": [
    "# Librosa settings\n",
    "SAMPLE_RATE = 16000\n",
    "MAX_DURATION = 3  # seconds\n",
    "MAX_LEN = SAMPLE_RATE * MAX_DURATION  # samples\n",
    "NUM_MFCC = 13"
   ]
  },
  {
   "cell_type": "code",
   "execution_count": null,
   "metadata": {},
   "outputs": [],
   "source": [
    "np.random.seed(42)"
   ]
  }
 ],
 "metadata": {
  "kernelspec": {
   "display_name": "Python 3 (ipykernel)",
   "language": "python",
   "name": "python3"
  },
  "language_info": {
   "codemirror_mode": {
    "name": "ipython",
    "version": 3
   },
   "file_extension": ".py",
   "mimetype": "text/x-python",
   "name": "python",
   "nbconvert_exporter": "python",
   "pygments_lexer": "ipython3",
   "version": "3.10.17"
  }
 },
 "nbformat": 4,
 "nbformat_minor": 4
}
