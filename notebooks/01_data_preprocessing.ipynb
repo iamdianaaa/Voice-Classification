{
 "cells": [
  {
   "cell_type": "code",
   "execution_count": 34,
   "metadata": {},
   "outputs": [],
   "source": [
    "import pandas as pd\n",
    "from pathlib import Path\n",
    "import librosa\n",
    "import numpy as np\n",
    "from tqdm.notebook import tqdm\n",
    "import os\n",
    "from sklearn.preprocessing import LabelEncoder\n",
    "from sklearn.model_selection import train_test_split\n",
    "from sklearn.preprocessing import StandardScaler"
   ]
  },
  {
   "cell_type": "code",
   "execution_count": 19,
   "metadata": {},
   "outputs": [
    {
     "name": "stdout",
     "output_type": "stream",
     "text": [
      "Initial shape: (249, 13)\n"
     ]
    }
   ],
   "source": [
    "# Inside the container, this points to the mounted dataset\n",
    "data_path = Path(\"../data/raw/common_voice/validated.tsv\")\n",
    "df = pd.read_csv(data_path, sep=\"\\t\")\n",
    "print(\"Initial shape:\",df.shape)"
   ]
  },
  {
   "cell_type": "code",
   "execution_count": 20,
   "metadata": {},
   "outputs": [
    {
     "data": {
      "text/html": [
       "<div>\n",
       "<style scoped>\n",
       "    .dataframe tbody tr th:only-of-type {\n",
       "        vertical-align: middle;\n",
       "    }\n",
       "\n",
       "    .dataframe tbody tr th {\n",
       "        vertical-align: top;\n",
       "    }\n",
       "\n",
       "    .dataframe thead th {\n",
       "        text-align: right;\n",
       "    }\n",
       "</style>\n",
       "<table border=\"1\" class=\"dataframe\">\n",
       "  <thead>\n",
       "    <tr style=\"text-align: right;\">\n",
       "      <th></th>\n",
       "      <th>client_id</th>\n",
       "      <th>path</th>\n",
       "      <th>sentence_id</th>\n",
       "      <th>sentence</th>\n",
       "      <th>sentence_domain</th>\n",
       "      <th>up_votes</th>\n",
       "      <th>down_votes</th>\n",
       "      <th>age</th>\n",
       "      <th>gender</th>\n",
       "      <th>accents</th>\n",
       "      <th>variant</th>\n",
       "      <th>locale</th>\n",
       "      <th>segment</th>\n",
       "    </tr>\n",
       "  </thead>\n",
       "  <tbody>\n",
       "    <tr>\n",
       "      <th>0</th>\n",
       "      <td>116398939d6be70fc5fb532924a130c0adf286ac283499...</td>\n",
       "      <td>common_voice_en_41923025.mp3</td>\n",
       "      <td>f5a2a431746c5229ab696ba0e1a518fe7b26e208ff3b84...</td>\n",
       "      <td>He was born at Wichenford, in Worcestershire, ...</td>\n",
       "      <td>NaN</td>\n",
       "      <td>2</td>\n",
       "      <td>0</td>\n",
       "      <td>thirties</td>\n",
       "      <td>NaN</td>\n",
       "      <td>United States English</td>\n",
       "      <td>NaN</td>\n",
       "      <td>en</td>\n",
       "      <td>NaN</td>\n",
       "    </tr>\n",
       "    <tr>\n",
       "      <th>1</th>\n",
       "      <td>24a4da2e8f053a45a0715849c222a40a4b0da9872efb2e...</td>\n",
       "      <td>common_voice_en_42356358.mp3</td>\n",
       "      <td>f6f009587d8812c147af1cc05079e1fcd8120c8a98cdf8...</td>\n",
       "      <td>The Portuguese division was overrun and withdr...</td>\n",
       "      <td>NaN</td>\n",
       "      <td>2</td>\n",
       "      <td>0</td>\n",
       "      <td>teens</td>\n",
       "      <td>NaN</td>\n",
       "      <td>United States English</td>\n",
       "      <td>NaN</td>\n",
       "      <td>en</td>\n",
       "      <td>NaN</td>\n",
       "    </tr>\n",
       "    <tr>\n",
       "      <th>2</th>\n",
       "      <td>30849595699bc853c3810a78448acede46888b4e2d0809...</td>\n",
       "      <td>common_voice_en_42165090.mp3</td>\n",
       "      <td>f69afa5e77812e8be0085c874d2a9767323c78ffb43ba6...</td>\n",
       "      <td>Her health by this stage was also poor.</td>\n",
       "      <td>NaN</td>\n",
       "      <td>2</td>\n",
       "      <td>0</td>\n",
       "      <td>NaN</td>\n",
       "      <td>NaN</td>\n",
       "      <td>NaN</td>\n",
       "      <td>NaN</td>\n",
       "      <td>en</td>\n",
       "      <td>NaN</td>\n",
       "    </tr>\n",
       "    <tr>\n",
       "      <th>3</th>\n",
       "      <td>42d53f34c1bc50f7a7c4ed1765a8d1ffeaf5cd441513cc...</td>\n",
       "      <td>common_voice_en_41921729.mp3</td>\n",
       "      <td>f5739acbefdbd3aac990792966fac4d40dcb39eb8dfa21...</td>\n",
       "      <td>His sporting interests outside of cricket incl...</td>\n",
       "      <td>NaN</td>\n",
       "      <td>2</td>\n",
       "      <td>0</td>\n",
       "      <td>nineties</td>\n",
       "      <td>NaN</td>\n",
       "      <td>England English</td>\n",
       "      <td>NaN</td>\n",
       "      <td>en</td>\n",
       "      <td>NaN</td>\n",
       "    </tr>\n",
       "    <tr>\n",
       "      <th>4</th>\n",
       "      <td>436b9e1f9da710d74eb01209f8f269bee70e93cadf2053...</td>\n",
       "      <td>common_voice_en_42528393.mp3</td>\n",
       "      <td>f7d35c60d76f025c45a9495757d1ee0e2b7c206317a288...</td>\n",
       "      <td>The following year he was elected to be part o...</td>\n",
       "      <td>NaN</td>\n",
       "      <td>2</td>\n",
       "      <td>0</td>\n",
       "      <td>teens</td>\n",
       "      <td>NaN</td>\n",
       "      <td>United States English</td>\n",
       "      <td>NaN</td>\n",
       "      <td>en</td>\n",
       "      <td>NaN</td>\n",
       "    </tr>\n",
       "  </tbody>\n",
       "</table>\n",
       "</div>"
      ],
      "text/plain": [
       "                                           client_id  \\\n",
       "0  116398939d6be70fc5fb532924a130c0adf286ac283499...   \n",
       "1  24a4da2e8f053a45a0715849c222a40a4b0da9872efb2e...   \n",
       "2  30849595699bc853c3810a78448acede46888b4e2d0809...   \n",
       "3  42d53f34c1bc50f7a7c4ed1765a8d1ffeaf5cd441513cc...   \n",
       "4  436b9e1f9da710d74eb01209f8f269bee70e93cadf2053...   \n",
       "\n",
       "                           path  \\\n",
       "0  common_voice_en_41923025.mp3   \n",
       "1  common_voice_en_42356358.mp3   \n",
       "2  common_voice_en_42165090.mp3   \n",
       "3  common_voice_en_41921729.mp3   \n",
       "4  common_voice_en_42528393.mp3   \n",
       "\n",
       "                                         sentence_id  \\\n",
       "0  f5a2a431746c5229ab696ba0e1a518fe7b26e208ff3b84...   \n",
       "1  f6f009587d8812c147af1cc05079e1fcd8120c8a98cdf8...   \n",
       "2  f69afa5e77812e8be0085c874d2a9767323c78ffb43ba6...   \n",
       "3  f5739acbefdbd3aac990792966fac4d40dcb39eb8dfa21...   \n",
       "4  f7d35c60d76f025c45a9495757d1ee0e2b7c206317a288...   \n",
       "\n",
       "                                            sentence sentence_domain  \\\n",
       "0  He was born at Wichenford, in Worcestershire, ...             NaN   \n",
       "1  The Portuguese division was overrun and withdr...             NaN   \n",
       "2            Her health by this stage was also poor.             NaN   \n",
       "3  His sporting interests outside of cricket incl...             NaN   \n",
       "4  The following year he was elected to be part o...             NaN   \n",
       "\n",
       "   up_votes  down_votes       age gender                accents  variant  \\\n",
       "0         2           0  thirties    NaN  United States English      NaN   \n",
       "1         2           0     teens    NaN  United States English      NaN   \n",
       "2         2           0       NaN    NaN                    NaN      NaN   \n",
       "3         2           0  nineties    NaN        England English      NaN   \n",
       "4         2           0     teens    NaN  United States English      NaN   \n",
       "\n",
       "  locale  segment  \n",
       "0     en      NaN  \n",
       "1     en      NaN  \n",
       "2     en      NaN  \n",
       "3     en      NaN  \n",
       "4     en      NaN  "
      ]
     },
     "execution_count": 20,
     "metadata": {},
     "output_type": "execute_result"
    }
   ],
   "source": [
    "df.head()"
   ]
  },
  {
   "cell_type": "code",
   "execution_count": null,
   "metadata": {},
   "outputs": [
    {
     "name": "stdout",
     "output_type": "stream",
     "text": [
      "Columns in validated.tsv: ['client_id', 'path', 'sentence_id', 'sentence', 'sentence_domain', 'up_votes', 'down_votes', 'age', 'gender', 'accents', 'variant', 'locale', 'segment']\n"
     ]
    }
   ],
   "source": [
    "# Showing columns to inspect\n",
    "print(\"Columns in validated.tsv:\", df.columns.tolist())"
   ]
  },
  {
   "cell_type": "code",
   "execution_count": 22,
   "metadata": {},
   "outputs": [],
   "source": [
    "# Dropping rows with missing or unknown age\n",
    "df = df.dropna(subset=[\"age\"])\n",
    "df = df[df[\"age\"] != \"unknown\"]"
   ]
  },
  {
   "cell_type": "code",
   "execution_count": 23,
   "metadata": {},
   "outputs": [
    {
     "name": "stdout",
     "output_type": "stream",
     "text": [
      "After dropping missing/unknown ages: (237, 13)\n"
     ]
    }
   ],
   "source": [
    "print(\"After dropping missing/unknown ages:\", df.shape)"
   ]
  },
  {
   "cell_type": "code",
   "execution_count": 24,
   "metadata": {},
   "outputs": [
    {
     "name": "stdout",
     "output_type": "stream",
     "text": [
      "Unique age labels:\n",
      "['fifties', 'fourties', 'nineties', 'sixties', 'teens', 'thirties', 'twenties']\n"
     ]
    }
   ],
   "source": [
    "# Checking all unique age values\n",
    "print(\"Unique age labels:\")\n",
    "print(sorted(df[\"age\"].unique()))"
   ]
  },
  {
   "cell_type": "code",
   "execution_count": 25,
   "metadata": {},
   "outputs": [],
   "source": [
    "# Defining age bins\n",
    "def bin_age(age):\n",
    "    if age in [\"teens\"]:\n",
    "        return \"teen\"\n",
    "    elif age in [\"twenties\"]:\n",
    "        return \"young_adult\"\n",
    "    elif age in [\"thirties\", \"forties\"]:\n",
    "        return \"adult\"\n",
    "    elif age in [\"fifties\", \"sixties\"]:\n",
    "        return \"middle_aged\"\n",
    "    elif age in [\"seventies\", \"eighties\", \"nineties\"]:\n",
    "        return \"senior\"\n",
    "    else:\n",
    "        return \"unknown\""
   ]
  },
  {
   "cell_type": "code",
   "execution_count": 26,
   "metadata": {},
   "outputs": [],
   "source": [
    "# Applying binning function to create new column\n",
    "df[\"age_group\"] = df[\"age\"].apply(bin_age)\n",
    "\n",
    "# Dropping any that failed binning (i.e., stayed 'unknown')\n",
    "df = df[df[\"age_group\"] != \"unknown\"]"
   ]
  },
  {
   "cell_type": "code",
   "execution_count": 27,
   "metadata": {},
   "outputs": [
    {
     "name": "stdout",
     "output_type": "stream",
     "text": [
      "age_group\n",
      "young_adult    126\n",
      "adult           56\n",
      "middle_aged     33\n",
      "teen            14\n",
      "senior           1\n",
      "Name: count, dtype: int64\n"
     ]
    },
    {
     "data": {
      "text/html": [
       "<div>\n",
       "<style scoped>\n",
       "    .dataframe tbody tr th:only-of-type {\n",
       "        vertical-align: middle;\n",
       "    }\n",
       "\n",
       "    .dataframe tbody tr th {\n",
       "        vertical-align: top;\n",
       "    }\n",
       "\n",
       "    .dataframe thead th {\n",
       "        text-align: right;\n",
       "    }\n",
       "</style>\n",
       "<table border=\"1\" class=\"dataframe\">\n",
       "  <thead>\n",
       "    <tr style=\"text-align: right;\">\n",
       "      <th></th>\n",
       "      <th>path</th>\n",
       "      <th>age</th>\n",
       "      <th>age_group</th>\n",
       "    </tr>\n",
       "  </thead>\n",
       "  <tbody>\n",
       "    <tr>\n",
       "      <th>0</th>\n",
       "      <td>common_voice_en_41923025.mp3</td>\n",
       "      <td>thirties</td>\n",
       "      <td>adult</td>\n",
       "    </tr>\n",
       "    <tr>\n",
       "      <th>1</th>\n",
       "      <td>common_voice_en_42356358.mp3</td>\n",
       "      <td>teens</td>\n",
       "      <td>teen</td>\n",
       "    </tr>\n",
       "    <tr>\n",
       "      <th>3</th>\n",
       "      <td>common_voice_en_41921729.mp3</td>\n",
       "      <td>nineties</td>\n",
       "      <td>senior</td>\n",
       "    </tr>\n",
       "    <tr>\n",
       "      <th>4</th>\n",
       "      <td>common_voice_en_42528393.mp3</td>\n",
       "      <td>teens</td>\n",
       "      <td>teen</td>\n",
       "    </tr>\n",
       "    <tr>\n",
       "      <th>6</th>\n",
       "      <td>common_voice_en_42555516.mp3</td>\n",
       "      <td>twenties</td>\n",
       "      <td>young_adult</td>\n",
       "    </tr>\n",
       "  </tbody>\n",
       "</table>\n",
       "</div>"
      ],
      "text/plain": [
       "                           path       age    age_group\n",
       "0  common_voice_en_41923025.mp3  thirties        adult\n",
       "1  common_voice_en_42356358.mp3     teens         teen\n",
       "3  common_voice_en_41921729.mp3  nineties       senior\n",
       "4  common_voice_en_42528393.mp3     teens         teen\n",
       "6  common_voice_en_42555516.mp3  twenties  young_adult"
      ]
     },
     "execution_count": 27,
     "metadata": {},
     "output_type": "execute_result"
    }
   ],
   "source": [
    "# Preview result\n",
    "print(df[\"age_group\"].value_counts())\n",
    "df[[\"path\", \"age\", \"age_group\"]].head()"
   ]
  },
  {
   "cell_type": "code",
   "execution_count": 28,
   "metadata": {},
   "outputs": [],
   "source": [
    "# Paths\n",
    "clips_dir = Path(\"../data/raw/common_voice/clips/\")\n",
    "processed_dir = Path(\"../data/processed/\")\n",
    "processed_dir.mkdir(exist_ok=True, parents=True)"
   ]
  },
  {
   "cell_type": "code",
   "execution_count": 29,
   "metadata": {},
   "outputs": [],
   "source": [
    "# Librosa settings\n",
    "SAMPLE_RATE = 16000\n",
    "MAX_DURATION = 3  # seconds\n",
    "MAX_LEN = SAMPLE_RATE * MAX_DURATION  # samples\n",
    "NUM_MFCC = 13"
   ]
  },
  {
   "cell_type": "code",
   "execution_count": 30,
   "metadata": {},
   "outputs": [],
   "source": [
    "np.random.seed(42)"
   ]
  },
  {
   "cell_type": "code",
   "execution_count": 31,
   "metadata": {},
   "outputs": [],
   "source": [
    "# Feature Extraction Function\n",
    "def extract_mfcc(file_path, sample_rate=16000, num_mfcc=13, max_len=48000):\n",
    "    try:\n",
    "        audio, sr = librosa.load(str(file_path), sr=sample_rate)\n",
    "\n",
    "        if len(audio) > max_len:\n",
    "            audio = audio[:max_len]\n",
    "        else:\n",
    "            audio = np.pad(audio, (0, max_len - len(audio)))\n",
    "\n",
    "        mfcc_feat = librosa.feature.mfcc(y=audio, sr=sr, n_mfcc=num_mfcc)\n",
    "        return mfcc_feat\n",
    "    except Exception as e:\n",
    "        print(f\"Error processing {file_path}: {e}\")\n",
    "        return None"
   ]
  },
  {
   "cell_type": "code",
   "execution_count": 32,
   "metadata": {},
   "outputs": [
    {
     "name": "stdout",
     "output_type": "stream",
     "text": [
      "Extracting MFCCs...\n"
     ]
    },
    {
     "data": {
      "application/vnd.jupyter.widget-view+json": {
       "model_id": "694d4e767df94a95bb4b9818de1ee761",
       "version_major": 2,
       "version_minor": 0
      },
      "text/plain": [
       "  0%|          | 0/230 [00:00<?, ?it/s]"
      ]
     },
     "metadata": {},
     "output_type": "display_data"
    },
    {
     "name": "stdout",
     "output_type": "stream",
     "text": [
      "Extracted features shape: (230, 13, 94)\n",
      "Labels shape: (230,)\n"
     ]
    }
   ],
   "source": [
    "# Extraction Process\n",
    "features = []\n",
    "labels = []\n",
    "\n",
    "print(\"Extracting MFCCs...\")\n",
    "\n",
    "for _, row in tqdm(df.iterrows(), total=len(df)):\n",
    "    path = clips_dir / row[\"path\"]\n",
    "    mfcc_feat = extract_mfcc(path)\n",
    "\n",
    "    if mfcc_feat is not None:\n",
    "        features.append(mfcc_feat)\n",
    "        labels.append(row[\"age_group\"])\n",
    "\n",
    "features = np.array(features)\n",
    "labels = np.array(labels)\n",
    "\n",
    "print(f\"Extracted features shape: {features.shape}\")\n",
    "print(f\"Labels shape: {labels.shape}\")"
   ]
  },
  {
   "cell_type": "code",
   "execution_count": 33,
   "metadata": {},
   "outputs": [
    {
     "name": "stdout",
     "output_type": "stream",
     "text": [
      "Features and labels saved to processed/\n"
     ]
    }
   ],
   "source": [
    "# Saving into processed folder\n",
    "np.save(processed_dir / \"X_mfcc.npy\", features)\n",
    "np.save(processed_dir / \"y_labels.npy\", labels)\n",
    "print(\"Features and labels saved to processed/\")"
   ]
  },
  {
   "cell_type": "code",
   "execution_count": 35,
   "metadata": {},
   "outputs": [],
   "source": [
    "# Loading previously saved features\n",
    "X = np.load(processed_dir / \"X_mfcc.npy\")  # shape: (N, 13, T)\n",
    "y = np.load(processed_dir / \"y_labels.npy\")  # shape: (N,)"
   ]
  },
  {
   "cell_type": "code",
   "execution_count": 36,
   "metadata": {},
   "outputs": [
    {
     "name": "stdout",
     "output_type": "stream",
     "text": [
      "Label Mapping: {'adult': 0, 'middle_aged': 1, 'senior': 2, 'teen': 3, 'young_adult': 4}\n"
     ]
    }
   ],
   "source": [
    "# Encoding String Labels\n",
    "le = LabelEncoder()\n",
    "y_encoded = le.fit_transform(y)\n",
    "\n",
    "# Saving label mapping for use in evaluation\n",
    "label_mapping = dict(zip(le.classes_, le.transform(le.classes_)))\n",
    "print(\"Label Mapping:\", label_mapping)"
   ]
  },
  {
   "cell_type": "code",
   "execution_count": 38,
   "metadata": {},
   "outputs": [
    {
     "name": "stdout",
     "output_type": "stream",
     "text": [
      "Train set shape: (184, 13, 94)\n",
      "Test set shape: (46, 13, 94)\n"
     ]
    }
   ],
   "source": [
    "# Train-Test Split\n",
    "X_train, X_test, y_train, y_test = train_test_split(\n",
    "    X, y_encoded, test_size=0.2, random_state=42\n",
    ")\n",
    "\n",
    "print(f\"Train set shape: {X_train.shape}\")\n",
    "print(f\"Test set shape: {X_test.shape}\")"
   ]
  },
  {
   "cell_type": "code",
   "execution_count": 39,
   "metadata": {},
   "outputs": [
    {
     "name": "stdout",
     "output_type": "stream",
     "text": [
      "Feature scaling complete.\n"
     ]
    }
   ],
   "source": [
    "# Feature Scaling (Standartization per MFCC)\n",
    "N, F, T = X_train.shape\n",
    "X_train_flat = X_train.reshape((N, F * T))\n",
    "X_test_flat = X_test.reshape((X_test.shape[0], F * T))\n",
    "\n",
    "scaler = StandardScaler()\n",
    "X_train_scaled = scaler.fit_transform(X_train_flat)\n",
    "X_test_scaled = scaler.transform(X_test_flat)\n",
    "\n",
    "# Reshaping back\n",
    "X_train = X_train_scaled.reshape((N, F, T))\n",
    "X_test = X_test_scaled.reshape((X_test.shape[0], F, T))\n",
    "\n",
    "print(\"Feature scaling complete.\")"
   ]
  },
  {
   "cell_type": "code",
   "execution_count": null,
   "metadata": {},
   "outputs": [],
   "source": [
    "# Saving into processed folder\n",
    "np.save(processed_dir / \"X_train.npy\", X_train)\n",
    "np.save(processed_dir / \"X_test.npy\", X_test)\n",
    "np.save(processed_dir / \"y_train.npy\", y_train)\n",
    "np.save(processed_dir / \"y_test.npy\", y_test)"
   ]
  }
 ],
 "metadata": {
  "kernelspec": {
   "display_name": "base",
   "language": "python",
   "name": "python3"
  },
  "language_info": {
   "codemirror_mode": {
    "name": "ipython",
    "version": 3
   },
   "file_extension": ".py",
   "mimetype": "text/x-python",
   "name": "python",
   "nbconvert_exporter": "python",
   "pygments_lexer": "ipython3",
   "version": "3.11.5"
  }
 },
 "nbformat": 4,
 "nbformat_minor": 4
}
